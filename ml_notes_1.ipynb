{
 "cells": [
  {
   "cell_type": "markdown",
   "metadata": {},
   "source": [
    "### Notes from ...\n",
    "https://github.com/MGCodesandStats/image-recognition-with-keras-convolutional-neural-networks\n",
    "\n",
    "This is a code snip from the link above.  It is a good minimal reference for using tensorflow to train an image classifier.  The link has the full example (including the images)"
   ]
  },
  {
   "cell_type": "code",
   "execution_count": 44,
   "metadata": {},
   "outputs": [
    {
     "name": "stdout",
     "output_type": "stream",
     "text": [
      "Found 160 images belonging to 2 classes.\n",
      "Epoch 1/10\n",
      "10/10 [==============================] - 3s 261ms/step - loss: 0.6139 - accuracy: 0.6500\n",
      "Epoch 2/10\n",
      "10/10 [==============================] - 3s 261ms/step - loss: 0.3759 - accuracy: 0.8406\n",
      "Epoch 3/10\n",
      "10/10 [==============================] - 3s 260ms/step - loss: 0.3375 - accuracy: 0.8406\n",
      "Epoch 4/10\n",
      "10/10 [==============================] - 3s 269ms/step - loss: 0.2586 - accuracy: 0.9000\n",
      "Epoch 5/10\n",
      "10/10 [==============================] - 3s 253ms/step - loss: 0.2070 - accuracy: 0.9125\n",
      "Epoch 6/10\n",
      "10/10 [==============================] - 3s 258ms/step - loss: 0.1776 - accuracy: 0.9281\n",
      "Epoch 7/10\n",
      "10/10 [==============================] - 3s 254ms/step - loss: 0.1578 - accuracy: 0.9312\n",
      "Epoch 8/10\n",
      "10/10 [==============================] - 3s 270ms/step - loss: 0.1552 - accuracy: 0.9281\n",
      "Epoch 9/10\n",
      "10/10 [==============================] - 2s 250ms/step - loss: 0.1497 - accuracy: 0.9438\n",
      "Epoch 10/10\n",
      "10/10 [==============================] - 3s 255ms/step - loss: 0.1849 - accuracy: 0.9219\n"
     ]
    }
   ],
   "source": [
    "import tensorflow\n",
    "\n",
    "classifier = tensorflow.keras.models.Sequential()\n",
    "classifier.add(Conv2D(32, (3,3), input_shape = (64,64,3), activation='relu'))\n",
    "classifier.add(MaxPooling2D(pool_size=(2,2)))\n",
    "classifier.add(Conv2D(32, (3,3), activation='relu'))\n",
    "classifier.add(MaxPooling2D(pool_size=(2,2)))\n",
    "classifier.add(Flatten())\n",
    "classifier.add(Dense(units=128, activation='relu'))\n",
    "classifier.add(Dense(units=1,   activation='sigmoid'))\n",
    "\n",
    "classifier.compile(optimizer='adam', loss='binary_crossentropy', metrics=['accuracy'])\n",
    "\n",
    "training_image_data = tensorflow.keras.preprocessing.image.ImageDataGenerator(\n",
    "    rescale=1/255, shear_range=.2, zoom_range = .2, horizontal_flip=True)\n",
    "\n",
    "training_set = train_image_data.flow_from_directory(\n",
    "    'data/training_set', target_size=(64,64), batch_size=32, class_mode = 'binary')\n",
    "\n",
    "history = classifier.fit_generator(\n",
    "    training_set, steps_per_epoch=10, epochs=10)"
   ]
  }
 ],
 "metadata": {
  "kernelspec": {
   "display_name": "Python 3",
   "language": "python",
   "name": "python3"
  },
  "language_info": {
   "codemirror_mode": {
    "name": "ipython",
    "version": 3
   },
   "file_extension": ".py",
   "mimetype": "text/x-python",
   "name": "python",
   "nbconvert_exporter": "python",
   "pygments_lexer": "ipython3",
   "version": "3.7.3"
  }
 },
 "nbformat": 4,
 "nbformat_minor": 2
}
